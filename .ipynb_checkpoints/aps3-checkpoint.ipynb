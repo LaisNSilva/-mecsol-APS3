{
 "cells": [
  {
   "cell_type": "markdown",
   "metadata": {},
   "source": [
    "# APS 3 - Aula 20\n",
    "---"
   ]
  },
  {
   "cell_type": "code",
   "execution_count": 1,
   "metadata": {},
   "outputs": [],
   "source": [
    "import matplotlib.pyplot as plt\n",
    "import numpy as np\n",
    "from funcoesTermosol import *\n",
    "import math\n",
    "from app_utils import *"
   ]
  },
  {
   "cell_type": "code",
   "execution_count": 2,
   "metadata": {},
   "outputs": [],
   "source": [
    "num_nos, matriz_nos, num_membros, matriz_incidencia, num_cargas, v_carregamento, num_rest, v_rest = importa(\"entrada_aps3.xlsx\")"
   ]
  },
  {
   "cell_type": "code",
   "execution_count": 3,
   "metadata": {},
   "outputs": [],
   "source": [
    "#calcula matriz de conectividade global\n",
    "conectividade_global = conec_global_T(matriz_incidencia, num_membros, num_nos)"
   ]
  },
  {
   "cell_type": "code",
   "execution_count": 4,
   "metadata": {},
   "outputs": [],
   "source": [
    "#calcula matriz dos membros\n",
    "matriz_dos_membros = np.dot(matriz_nos, conectividade_global) "
   ]
  },
  {
   "cell_type": "code",
   "execution_count": 5,
   "metadata": {},
   "outputs": [],
   "source": [
    "#caclula matriz de rigidez global\n",
    "KG = matriz_global(num_nos, num_membros, matriz_incidencia, matriz_nos, matriz_dos_membros) "
   ]
  },
  {
   "cell_type": "code",
   "execution_count": 6,
   "metadata": {},
   "outputs": [],
   "source": [
    "#condição de contorno\n",
    "Pg = vetor_global_de_forcas(num_rest, v_rest, v_carregamento)"
   ]
  },
  {
   "cell_type": "code",
   "execution_count": 7,
   "metadata": {},
   "outputs": [],
   "source": [
    "#exclui linhas e colunas\n",
    "KG_solucao = MR_para_solucao(KG, v_rest)"
   ]
  },
  {
   "cell_type": "code",
   "execution_count": 8,
   "metadata": {
    "scrolled": true
   },
   "outputs": [
    {
     "name": "stderr",
     "output_type": "stream",
     "text": [
      "  0%|                                                                                          | 0/100 [00:00<?, ?it/s]"
     ]
    },
    {
     "name": "stdout",
     "output_type": "stream",
     "text": [
      "Convergiu na 34º iteracao\n"
     ]
    },
    {
     "name": "stderr",
     "output_type": "stream",
     "text": [
      "\n"
     ]
    }
   ],
   "source": [
    "#calcula os deslocamentos usando a solução de gauss\n",
    "u = solucao_gauss(KG_solucao, Pg, 100, 1e-4)"
   ]
  },
  {
   "cell_type": "code",
   "execution_count": 9,
   "metadata": {},
   "outputs": [],
   "source": [
    "#adiciona 0 nos deslocamentos nulos\n",
    "u_completo = completa_u(u, v_rest)"
   ]
  },
  {
   "cell_type": "code",
   "execution_count": 10,
   "metadata": {},
   "outputs": [],
   "source": [
    "#calcula todas as forças de apoio\n",
    "forcas = calculate_force_complete(KG, u_completo, v_rest)"
   ]
  },
  {
   "cell_type": "code",
   "execution_count": 11,
   "metadata": {},
   "outputs": [
    {
     "name": "stdout",
     "output_type": "stream",
     "text": [
      "R1x: [-1485.27125457]\n",
      "R1y: [-952.65646932]\n",
      "R2y: [4069.03466394]\n",
      "R3y: [6691.50650224]\n",
      "R4y: [6220.79203194]\n",
      "R5x: [-6514.37856431]\n",
      "R5y: [3971.33303787]\n"
     ]
    }
   ],
   "source": [
    "title_to_print = [\"R1x\", \"R1y\", \"R2y\", \"R3y\", \"R4y\", \"R5x\", \"R5y\"]\n",
    "for i in range(len(title_to_print)):\n",
    "    print(\"{0}: {1}\".format(title_to_print[i], forcas[i]))"
   ]
  },
  {
   "cell_type": "code",
   "execution_count": 12,
   "metadata": {},
   "outputs": [],
   "source": [
    "#área fornecida pela estrutura\n",
    "area = math.pi*0.15**2 "
   ]
  },
  {
   "cell_type": "code",
   "execution_count": 13,
   "metadata": {},
   "outputs": [
    {
     "name": "stdout",
     "output_type": "stream",
     "text": [
      "Membro 1: tensao: 7534.96 | deformacao: 3.58807516765095e-08 | força: 532.61\n",
      "Membro 2: tensao: 14220.65 | deformacao: 6.771737895126479e-08 | força: 1005.2\n",
      "Membro 3: tensao: 14221.13 | deformacao: 6.771965394009157e-08 | força: 1005.23\n",
      "Membro 4: tensao: -35976.73 | deformacao: -1.7131778456786585e-07 | força: -2543.05\n",
      "Membro 5: tensao: 19059.83 | deformacao: 9.076107545198419e-08 | força: 1347.26\n",
      "Membro 6: tensao: -50880.41 | deformacao: -2.422876459203397e-07 | força: -3596.52\n",
      "Membro 7: tensao: -9453.54 | deformacao: -4.5016837202449334e-08 | força: -668.23\n",
      "Membro 8: tensao: -5706.72 | deformacao: -2.7174852224529028e-08 | força: -403.38\n",
      "Membro 9: tensao: -94665.45 | deformacao: -4.5078786732816827e-07 | força: -6691.51\n",
      "Membro 10: tensao: -70991.03 | deformacao: -3.380525136800407e-07 | força: -5018.06\n",
      "Membro 11: tensao: 37807.85 | deformacao: 1.8003736534799844e-07 | força: 2672.48\n",
      "Membro 12: tensao: -37807.97 | deformacao: -1.8003793997537785e-07 | força: -2672.49\n",
      "Membro 13: tensao: -79454.58 | deformacao: -3.7835512496157764e-07 | força: -5616.31\n",
      "Membro 14: tensao: -52895.43 | deformacao: -2.5188298200576747e-07 | força: -3738.96\n",
      "Membro 15: tensao: -151548.27 | deformacao: -7.216584175822115e-07 | força: -10712.32\n",
      "Membro 16: tensao: -132923.54 | deformacao: -6.329692533950186e-07 | força: -9395.81\n"
     ]
    }
   ],
   "source": [
    "forca_membros=[]\n",
    "tensao_membros=[]\n",
    "deform_membros=[]\n",
    "for i in range(num_membros):\n",
    "    tensao, deformacao, forca = tensao_e_deformacao(i+1, num_membros, u_completo, matriz_incidencia, matriz_nos, area)\n",
    "    forca_membros.append(forca)\n",
    "    tensao_membros.append(tensao)\n",
    "    deform_membros.append(deformacao)\n",
    "    print(\"Membro {0}: tensao: {1} | deformacao: {2} | força: {3}\".format(i+1, round(tensao,2), deformacao, round(forca,2)))"
   ]
  },
  {
   "cell_type": "code",
   "execution_count": 25,
   "metadata": {},
   "outputs": [],
   "source": [
    "#As entradas devem ser vetores coluna\n",
    "geraSaida('APS3_saida',np.array((forcas)),u,np.array([deform_membros]).T,np.array([forca_membros]).T,np.array([tensao_membros]).T)"
   ]
  },
  {
   "cell_type": "code",
   "execution_count": null,
   "metadata": {},
   "outputs": [],
   "source": []
  }
 ],
 "metadata": {
  "kernelspec": {
   "display_name": "Python 3",
   "language": "python",
   "name": "python3"
  },
  "language_info": {
   "codemirror_mode": {
    "name": "ipython",
    "version": 3
   },
   "file_extension": ".py",
   "mimetype": "text/x-python",
   "name": "python",
   "nbconvert_exporter": "python",
   "pygments_lexer": "ipython3",
   "version": "3.7.6"
  }
 },
 "nbformat": 4,
 "nbformat_minor": 4
}
