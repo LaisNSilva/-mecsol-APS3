{
 "cells": [
  {
   "cell_type": "markdown",
   "metadata": {},
   "source": [
    "# APS 3 - Aula 20\n",
    "---"
   ]
  },
  {
   "cell_type": "code",
   "execution_count": 1,
   "metadata": {},
   "outputs": [],
   "source": [
    "import matplotlib.pyplot as plt\n",
    "import numpy as np\n",
    "from funcoesTermosol import *\n",
    "from app_utils import *"
   ]
  },
  {
   "cell_type": "code",
   "execution_count": 2,
   "metadata": {},
   "outputs": [],
   "source": [
    "num_nos, matriz_nos, num_membros, matriz_incidencia, num_cargas, v_carregamento, num_rest, v_rest = importa(\"entrada_aps3.xlsx\")"
   ]
  },
  {
   "cell_type": "code",
   "execution_count": 3,
   "metadata": {},
   "outputs": [
    {
     "data": {
      "text/plain": [
       "array([[0.],\n",
       "       [1.],\n",
       "       [3.],\n",
       "       [5.],\n",
       "       [7.],\n",
       "       [8.],\n",
       "       [9.]])"
      ]
     },
     "execution_count": 3,
     "metadata": {},
     "output_type": "execute_result"
    }
   ],
   "source": [
    "v_rest"
   ]
  },
  {
   "cell_type": "code",
   "execution_count": 4,
   "metadata": {},
   "outputs": [
    {
     "data": {
      "text/plain": [
       "array([[1.00000000e+00, 2.00000000e+00, 2.10000000e+11, 7.06858347e-02],\n",
       "       [2.00000000e+00, 3.00000000e+00, 2.10000000e+11, 7.06858347e-02],\n",
       "       [3.00000000e+00, 4.00000000e+00, 2.10000000e+11, 7.06858347e-02],\n",
       "       [4.00000000e+00, 5.00000000e+00, 2.10000000e+11, 7.06858347e-02],\n",
       "       [1.00000000e+00, 6.00000000e+00, 2.10000000e+11, 7.06858347e-02],\n",
       "       [2.00000000e+00, 6.00000000e+00, 2.10000000e+11, 7.06858347e-02],\n",
       "       [2.00000000e+00, 7.00000000e+00, 2.10000000e+11, 7.06858347e-02],\n",
       "       [6.00000000e+00, 7.00000000e+00, 2.10000000e+11, 7.06858347e-02],\n",
       "       [3.00000000e+00, 7.00000000e+00, 2.10000000e+11, 7.06858347e-02],\n",
       "       [4.00000000e+00, 7.00000000e+00, 2.10000000e+11, 7.06858347e-02],\n",
       "       [7.00000000e+00, 8.00000000e+00, 2.10000000e+11, 7.06858347e-02],\n",
       "       [4.00000000e+00, 8.00000000e+00, 2.10000000e+11, 7.06858347e-02],\n",
       "       [5.00000000e+00, 8.00000000e+00, 2.10000000e+11, 7.06858347e-02],\n",
       "       [6.00000000e+00, 9.00000000e+00, 2.10000000e+11, 7.06858347e-02],\n",
       "       [7.00000000e+00, 9.00000000e+00, 2.10000000e+11, 7.06858347e-02],\n",
       "       [8.00000000e+00, 9.00000000e+00, 2.10000000e+11, 7.06858347e-02]])"
      ]
     },
     "execution_count": 4,
     "metadata": {},
     "output_type": "execute_result"
    }
   ],
   "source": [
    "matriz_incidencia"
   ]
  },
  {
   "cell_type": "code",
   "execution_count": 5,
   "metadata": {},
   "outputs": [],
   "source": [
    "conectividade_global = conec_global_T(matriz_incidencia, num_membros, num_nos)"
   ]
  },
  {
   "cell_type": "code",
   "execution_count": 6,
   "metadata": {},
   "outputs": [],
   "source": [
    "matriz_dos_membros = np.dot(matriz_nos, conectividade_global)"
   ]
  },
  {
   "cell_type": "code",
   "execution_count": 7,
   "metadata": {},
   "outputs": [],
   "source": [
    "KG = matriz_global(num_nos, num_membros, matriz_incidencia, matriz_nos, matriz_dos_membros)"
   ]
  },
  {
   "cell_type": "code",
   "execution_count": null,
   "metadata": {},
   "outputs": [],
   "source": []
  },
  {
   "cell_type": "code",
   "execution_count": 8,
   "metadata": {},
   "outputs": [],
   "source": [
    "Pg = vetor_global_de_forcas(num_rest, v_rest, v_carregamento) # Condição de contorno"
   ]
  },
  {
   "cell_type": "code",
   "execution_count": 9,
   "metadata": {},
   "outputs": [],
   "source": [
    "KG_solucao = MR_para_solucao(KG, v_rest)"
   ]
  },
  {
   "cell_type": "code",
   "execution_count": 10,
   "metadata": {
    "scrolled": true
   },
   "outputs": [],
   "source": [
    "u = calcula_deslocamentos(KG_solucao, Pg)"
   ]
  },
  {
   "cell_type": "code",
   "execution_count": 11,
   "metadata": {},
   "outputs": [
    {
     "data": {
      "text/plain": [
       "array([[ 7.17776427e-08],\n",
       "       [ 2.07213119e-07],\n",
       "       [ 3.42648596e-07],\n",
       "       [ 8.47655338e-07],\n",
       "       [-4.84582362e-07],\n",
       "       [ 7.93300326e-07],\n",
       "       [-9.01574228e-07],\n",
       "       [ 1.15337155e-06],\n",
       "       [-3.60071227e-07],\n",
       "       [ 1.70043042e-06],\n",
       "       [-2.34489036e-06]])"
      ]
     },
     "execution_count": 11,
     "metadata": {},
     "output_type": "execute_result"
    }
   ],
   "source": [
    "# Para nossa APS descobrimos u3, u5, u7, u11, u12, u13, u14, u15, u16, u17, u18,\n",
    "u"
   ]
  },
  {
   "cell_type": "code",
   "execution_count": 12,
   "metadata": {},
   "outputs": [],
   "source": [
    "def completa_u(matriz_u, vet_rest):\n",
    "    #faz a matriz virar lista\n",
    "    lista=[]\n",
    "    for e in matriz_u[:,0]:\n",
    "        lista.append(e)\n",
    "    \n",
    "    \n",
    "    ## Inserir zeros no u que não tem para assim complentar\n",
    "    \n",
    "    for i in vet_rest[:,0]:\n",
    "        lista.insert(int(i), 0)\n",
    "        \n",
    "    # Transforma em vetor de novo\n",
    "    matriz=np.array([lista])\n",
    "    matriz=matriz.T\n",
    "    \n",
    "    return matriz\n",
    "    \n",
    "    "
   ]
  },
  {
   "cell_type": "code",
   "execution_count": 13,
   "metadata": {},
   "outputs": [
    {
     "name": "stdout",
     "output_type": "stream",
     "text": [
      "[[ 0.00000000e+00]\n",
      " [ 0.00000000e+00]\n",
      " [ 7.17776427e-08]\n",
      " [ 0.00000000e+00]\n",
      " [ 2.07213119e-07]\n",
      " [ 0.00000000e+00]\n",
      " [ 3.42648596e-07]\n",
      " [ 0.00000000e+00]\n",
      " [ 0.00000000e+00]\n",
      " [ 0.00000000e+00]\n",
      " [ 8.47655338e-07]\n",
      " [-4.84582362e-07]\n",
      " [ 7.93300326e-07]\n",
      " [-9.01574228e-07]\n",
      " [ 1.15337155e-06]\n",
      " [-3.60071227e-07]\n",
      " [ 1.70043042e-06]\n",
      " [-2.34489036e-06]]\n",
      "(18, 1)\n"
     ]
    }
   ],
   "source": [
    "u_completo = completa_u(u, v_rest)\n",
    "\n",
    "print(u_completo)\n",
    "print(u_completo.shape)"
   ]
  },
  {
   "cell_type": "markdown",
   "metadata": {},
   "source": [
    "Temos que descobrir R1x, R1y, R2y, R3y, R4y, R5x, R5y"
   ]
  },
  {
   "cell_type": "code",
   "execution_count": 14,
   "metadata": {},
   "outputs": [
    {
     "name": "stdout",
     "output_type": "stream",
     "text": [
      "[-1485.46628629]\n"
     ]
    }
   ],
   "source": [
    "R1x = calculate_force(KG, u_completo, 0)\n",
    "print(R1x)"
   ]
  },
  {
   "cell_type": "code",
   "execution_count": 15,
   "metadata": {},
   "outputs": [],
   "source": [
    "def calculate_force_complete(KG, u_completo, vet_rest):\n",
    "    lista_forcas = []\n",
    "    for i in vet_rest[:,0]:\n",
    "        lista_forcas.append(calculate_force(KG, u_completo, int(i)))\n",
    "        \n",
    "    return lista_forcas\n",
    "        "
   ]
  },
  {
   "cell_type": "code",
   "execution_count": 16,
   "metadata": {},
   "outputs": [
    {
     "name": "stdout",
     "output_type": "stream",
     "text": [
      "7\n"
     ]
    }
   ],
   "source": [
    "forcas = calculate_force_complete(KG, u_completo, v_rest)\n",
    "print(len(forcas))"
   ]
  },
  {
   "cell_type": "code",
   "execution_count": 17,
   "metadata": {},
   "outputs": [
    {
     "name": "stdout",
     "output_type": "stream",
     "text": [
      "R1x:[-1485.46628629]\n",
      "R1y:[-952.73171494]\n",
      "R2y:[4069.04566302]\n",
      "R3y:[6691.49532106]\n",
      "R4y:[6220.79922859]\n",
      "R5x:[-6514.53371371]\n",
      "R5y:[3971.39150227]\n"
     ]
    }
   ],
   "source": [
    "i=0\n",
    "while(i<len(forcas)):\n",
    "    if i==0:\n",
    "        print(\"R1x:\"+str(forcas[i]))\n",
    "    elif i==1:\n",
    "        print(\"R1y:\"+str(forcas[i]))\n",
    "    elif i==2:\n",
    "        print(\"R2y:\"+str(forcas[i]))\n",
    "    elif i==3:\n",
    "        print(\"R3y:\"+str(forcas[i]))\n",
    "    elif i==4:\n",
    "        print(\"R4y:\"+str(forcas[i]))\n",
    "    elif i==5:\n",
    "        print(\"R5x:\"+str(forcas[i]))\n",
    "    elif i==6:\n",
    "        print(\"R5y:\"+str(forcas[i]))\n",
    "    \n",
    "    i=i+1  \n",
    "        \n",
    "    "
   ]
  },
  {
   "cell_type": "code",
   "execution_count": 19,
   "metadata": {},
   "outputs": [
    {
     "name": "stdout",
     "output_type": "stream",
     "text": [
      "Membro 1: tensao: 7536.652478778937 | deformacao: 3.5888821327518746e-08 | força: 1582697020543576.8\n",
      "Membro 2: tensao: 14220.725046637504 | deformacao: 6.771773831732145e-08 | força: 2986352259793876.0\n",
      "Membro 3: tensao: 14220.725046637503 | deformacao: 6.771773831732144e-08 | força: 2986352259793875.5\n",
      "Membro 4: tensao: -35978.10257205395 | deformacao: -1.7132429796216164e-07 | força: -7555401540131329.0\n",
      "Membro 5: tensao: 19061.33128625371 | deformacao: 9.076824422025577e-08 | força: 4002879570113279.0\n",
      "Membro 6: tensao: -50881.147959795846 | deformacao: -2.422911807609326e-07 | força: -1.0685041071557128e+16\n",
      "Membro 7: tensao: -9452.706077351546 | deformacao: -4.501288608262641e-08 | força: -1985068276243824.8\n",
      "Membro 8: tensao: -5707.276250655817 | deformacao: -2.7177505955503892e-08 | força: -1198528012637721.8\n",
      "Membro 9: tensao: -94665.2939575716 | deformacao: -4.507871140836743e-07 | força: -1.9879711731090036e+16\n",
      "Membro 10: tensao: -70991.86283358253 | deformacao: -3.380564896837264e-07 | força: -1.4908291195052332e+16\n",
      "Membro 11: tensao: 37807.478800177065 | deformacao: 1.800356133341765e-07 | força: 7939570548037184.0\n",
      "Membro 12: tensao: -37807.47880017706 | deformacao: -1.8003561333417645e-07 | força: -7939570548037182.0\n",
      "Membro 13: tensao: -79455.74594100077 | deformacao: -3.783606949571466e-07 | força: -1.6685706647610162e+16\n",
      "Membro 14: tensao: -52895.4782276017 | deformacao: -2.5188322965524623e-07 | força: -1.1108050427796356e+16\n",
      "Membro 15: tensao: -151548.19414412166 | deformacao: -7.216580673529603e-07 | força: -3.1825120770265548e+16\n",
      "Membro 16: tensao: -132923.59521934445 | deformacao: -6.329695010444974e-07 | força: -2.7913954996062336e+16\n"
     ]
    }
   ],
   "source": [
    "for i in range(num_membros):\n",
    "    tensao, deformacao, forca = tensao_e_deformacao(i+1, num_membros, u_completo, matriz_incidencia, matriz_nos, matriz_incidencia[0,2])\n",
    "    print(\"Membro {0}: tensao: {1} | deformacao: {2} | força: {3}\".format(i+1, tensao, deformacao, forca))"
   ]
  },
  {
   "cell_type": "code",
   "execution_count": 20,
   "metadata": {},
   "outputs": [],
   "source": [
    "tensao, deformacao, forca = tensao_e_deformacao(1, num_membros, u_completo, matriz_incidencia, matriz_nos, matriz_incidencia[0,2])"
   ]
  },
  {
   "cell_type": "code",
   "execution_count": 21,
   "metadata": {},
   "outputs": [
    {
     "data": {
      "text/plain": [
       "array([[ 7.17776427e-08],\n",
       "       [ 2.07213119e-07],\n",
       "       [ 3.42648596e-07],\n",
       "       [ 8.47655338e-07],\n",
       "       [-4.84582362e-07],\n",
       "       [ 7.93300326e-07],\n",
       "       [-9.01574228e-07],\n",
       "       [ 1.15337155e-06],\n",
       "       [-3.60071227e-07],\n",
       "       [ 1.70043042e-06],\n",
       "       [-2.34489036e-06]])"
      ]
     },
     "execution_count": 21,
     "metadata": {},
     "output_type": "execute_result"
    }
   ],
   "source": [
    "calcula_deslocamentos(KG_solucao, Pg)"
   ]
  },
  {
   "cell_type": "code",
   "execution_count": 22,
   "metadata": {},
   "outputs": [
    {
     "name": "stderr",
     "output_type": "stream",
     "text": [
      "  0%|                                                                                          | 0/100 [00:00<?, ?it/s]C:\\Users\\Lais Nascimento\\Desktop\\5-semestre\\Transferência de Calor e Mecânica dos Sólidos\\mecsol-APS3\\app_utils.py:207: RuntimeWarning: invalid value encountered in double_scalars\n",
      "  return max( abs( (s2 - s1)/s2) for s1,s2 in zip(array1, array2))\n",
      "  0%|                                                                                          | 0/100 [00:00<?, ?it/s]"
     ]
    },
    {
     "name": "stdout",
     "output_type": "stream",
     "text": [
      "                                          \r",
      "Erro: nan\r",
      "                                          \r",
      "Erro: 1.1109654157805202\r",
      "                                          \r",
      "Erro: 1.4388827457907427\r",
      "                                          \r",
      "Erro: 2.7122333634005296\r",
      "                                          \r",
      "Erro: 0.8051473767753873\r",
      "                                          \r",
      "Erro: 1.0813486336605305\r",
      "                                          \r",
      "Erro: 17.27068663891887\r",
      "                                          \r",
      "Erro: 1.0819916376803462\r",
      "                                          \r",
      "Erro: 0.44331437380344835\r",
      "                                          \r",
      "Erro: 0.24469127534590648\r",
      "                                          \r",
      "Erro: 0.1519166521127828\r",
      "                                          \r",
      "Erro: 0.100406088900219\r",
      "                                          \r",
      "Erro: 0.06890354475332389\r",
      "                                          \r",
      "Erro: 0.048433646585444246\r",
      "                                          \r",
      "Erro: 0.03458983241805581\r",
      "                                          \r",
      "Erro: 0.024970365084962812\r",
      "                                          \r",
      "Erro: 0.01816068152093256\r",
      "                                          \r",
      "Erro: 0.013277219301080728\r",
      "                                          \r",
      "Erro: 0.009743035216004944\r",
      "                                          \r",
      "Erro: 0.007168682525310286\r",
      "                                          \r",
      "Erro: 0.005284730767583437\r",
      "                                          \r",
      "Erro: 0.003901371365633266\r",
      "                                          \r",
      "Erro: 0.0028830948725533457\r",
      "                                          \r",
      "Erro: 0.0021322057266215328\r",
      "                                          \r",
      "Erro: 0.0015777610611205873\r",
      "                                          \r",
      "Erro: 0.0011679705305941077\r",
      "Convergiu na 26º iteracao\n"
     ]
    },
    {
     "name": "stderr",
     "output_type": "stream",
     "text": [
      "\n"
     ]
    },
    {
     "data": {
      "text/plain": [
       "array([[ 7.16003472e-08],\n",
       "       [ 2.07027928e-07],\n",
       "       [ 3.42505492e-07],\n",
       "       [ 8.47262671e-07],\n",
       "       [-4.84504699e-07],\n",
       "       [ 7.92965963e-07],\n",
       "       [-9.01590777e-07],\n",
       "       [ 1.15307568e-06],\n",
       "       [-3.60122344e-07],\n",
       "       [ 1.70015054e-06],\n",
       "       [-2.34491461e-06]])"
      ]
     },
     "execution_count": 22,
     "metadata": {},
     "output_type": "execute_result"
    }
   ],
   "source": [
    "solucao_gauss(KG_solucao, Pg, 100, 1e-3)"
   ]
  },
  {
   "cell_type": "code",
   "execution_count": 23,
   "metadata": {},
   "outputs": [
    {
     "data": {
      "text/plain": [
       "array([[ 7.17776427e-08],\n",
       "       [ 2.07213119e-07],\n",
       "       [ 3.42648596e-07],\n",
       "       [ 8.47655338e-07],\n",
       "       [-4.84582362e-07],\n",
       "       [ 7.93300326e-07],\n",
       "       [-9.01574228e-07],\n",
       "       [ 1.15337155e-06],\n",
       "       [-3.60071227e-07],\n",
       "       [ 1.70043042e-06],\n",
       "       [-2.34489036e-06]])"
      ]
     },
     "execution_count": 23,
     "metadata": {},
     "output_type": "execute_result"
    }
   ],
   "source": [
    "solucao_jacobi(KG_solucao, Pg, 100, 1e-3)"
   ]
  }
 ],
 "metadata": {
  "kernelspec": {
   "display_name": "Python 3",
   "language": "python",
   "name": "python3"
  },
  "language_info": {
   "codemirror_mode": {
    "name": "ipython",
    "version": 3
   },
   "file_extension": ".py",
   "mimetype": "text/x-python",
   "name": "python",
   "nbconvert_exporter": "python",
   "pygments_lexer": "ipython3",
   "version": "3.7.6"
  }
 },
 "nbformat": 4,
 "nbformat_minor": 4
}
