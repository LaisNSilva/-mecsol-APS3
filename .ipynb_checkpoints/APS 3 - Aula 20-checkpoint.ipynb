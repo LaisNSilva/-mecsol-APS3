{
 "cells": [
  {
   "cell_type": "markdown",
   "metadata": {},
   "source": [
    "# APS 3 - Aula 20"
   ]
  },
  {
   "cell_type": "markdown",
   "metadata": {},
   "source": [
    "A funcao 'plota' produz um gráfico da estrutura definida pela matriz de nos N \n",
    "e pela incidencia Inc.\n",
    "\n",
    "Sugestao de uso:\n",
    "\n",
    "from funcoesTermosol import plota\n",
    "plota(N,Inc)\n",
    "-------------------------------------------------------------------------------\n",
    "A funcao 'importa' retorna o numero de nos [nn], a matriz dos nos [N], o numero\n",
    "de membros [nm], a matriz de incidencia [Inc], o numero de cargas [nc], o vetor\n",
    "carregamento [F], o numero de restricoes [nr] e o vetor de restricoes [R] \n",
    "contidos no arquivo de entrada.\n",
    "\n",
    "Sugestao de uso:\n",
    "    \n",
    "from funcoesTermosol import importa\n",
    "[nn,N,nm,Inc,nc,F,nr,R] = importa('entrada.xlsx')\n",
    "-------------------------------------------------------------------------------\n",
    "A funcao 'geraSaida' cria um arquivo nome.txt contendo as reacoes de apoio Ft, \n",
    "deslocamentos Ut, forcas Fi e tensoes Ti internas. As entradas devem ser \n",
    "vetores coluna.\n",
    "\n",
    "Sugestao de uso:\n",
    "    \n",
    "from funcoesTermosol import geraSaida\n",
    "geraSaida(nome,Ft,Ut,Epsi,Fi,Ti)\n",
    "-------------------------------------------------------------------------------"
   ]
  },
  {
   "cell_type": "code",
   "execution_count": 1,
   "metadata": {},
   "outputs": [],
   "source": [
    "from cmath import *\n",
    "from math import *\n",
    "from numpy import linalg\n",
    "import numpy as np\n",
    "import matplotlib.pyplot as plt\n",
    "import numpy as np\n",
    "import matplotlib.pyplot as plt"
   ]
  },
  {
   "cell_type": "markdown",
   "metadata": {},
   "source": [
    "## Funções:"
   ]
  },
  {
   "cell_type": "code",
   "execution_count": null,
   "metadata": {},
   "outputs": [],
   "source": [
    "def plota(N,Inc):\n",
    "    # Numero de membros\n",
    "    nm = len(Inc[:,0])\n",
    "    \n",
    "    import matplotlib as mpl\n",
    "    import matplotlib.pyplot as plt\n",
    "\n",
    "#    plt.show()\n",
    "    fig = plt.figure()\n",
    "    # Passa por todos os membros\n",
    "    for i in range(nm):\n",
    "        \n",
    "        # encontra no inicial [n1] e final [n2] \n",
    "        n1 = int(Inc[i,0])\n",
    "        n2 = int(Inc[i,1])        \n",
    "\n",
    "        plt.plot([N[0,n1-1],N[0,n2-1]],[N[1,n1-1],N[1,n2-1]],color='r',linewidth=3)\n",
    "\n",
    "\n",
    "    plt.xlabel('x [m]')\n",
    "    plt.ylabel('y [m]')\n",
    "    plt.grid(True)\n",
    "    plt.axis('equal')\n",
    "    plt.show()\n",
    "    "
   ]
  },
  {
   "cell_type": "code",
   "execution_count": 2,
   "metadata": {},
   "outputs": [],
   "source": [
    "def importa(entradaNome):\n",
    "    \n",
    "    import numpy as np\n",
    "    import xlrd\n",
    "    \n",
    "    arquivo = xlrd.open_workbook(entradaNome)\n",
    "    \n",
    "    ################################################## Ler os nos\n",
    "    nos = arquivo.sheet_by_name('Nos')\n",
    "    \n",
    "    # Numero de nos\n",
    "    nn = int(nos.cell(1,3).value)\n",
    "                 \n",
    "    # Matriz dos nós\n",
    "    N = np.zeros((2,nn))\n",
    "    \n",
    "    for c in range(nn):\n",
    "        N[0,c] = nos.cell(c+1,0).value\n",
    "        N[1,c] = nos.cell(c+1,1).value\n",
    "    \n",
    "    ################################################## Ler a incidencia\n",
    "    incid = arquivo.sheet_by_name('Incidencia')\n",
    "    \n",
    "    # Numero de membros\n",
    "    nm = int(incid.cell(1,5).value)\n",
    "                 \n",
    "    # Matriz de incidencia\n",
    "    Inc = np.zeros((nm,4))\n",
    "    \n",
    "    for c in range(nm):\n",
    "        Inc[c,0] = int(incid.cell(c+1,0).value)\n",
    "        Inc[c,1] = int(incid.cell(c+1,1).value)\n",
    "        Inc[c,2] = incid.cell(c+1,2).value\n",
    "        Inc[c,3] = incid.cell(c+1,3).value\n",
    "    \n",
    "    ################################################## Ler as cargas\n",
    "    carg = arquivo.sheet_by_name('Carregamento')\n",
    "    \n",
    "    # Numero de cargas\n",
    "    nc = int(carg.cell(1,4).value)\n",
    "                 \n",
    "    # Vetor carregamento\n",
    "    F = np.zeros((nn*2,1))\n",
    "    \n",
    "    for c in range(nc):\n",
    "        no = carg.cell(c+1,0).value\n",
    "        xouy = carg.cell(c+1,1).value\n",
    "        GDL = int(no*2-(2-xouy)) \n",
    "        F[GDL-1,0] = carg.cell(c+1,2).value\n",
    "         \n",
    "    ################################################## Ler restricoes\n",
    "    restr = arquivo.sheet_by_name('Restricao')\n",
    "    \n",
    "    # Numero de restricoes\n",
    "    nr = int(restr.cell(1,3).value)\n",
    "                 \n",
    "    # Vetor com os graus de liberdade restritos\n",
    "    R = np.zeros((nr,1))\n",
    "    \n",
    "    for c in range(nr):\n",
    "        no = restr.cell(c+1,0).value\n",
    "        xouy = restr.cell(c+1,1).value\n",
    "        GDL = no*2-(2-xouy) \n",
    "        R[c,0] = GDL-1\n",
    "\n",
    "\n",
    "    return nn,N,nm,Inc,nc,F,nr,R"
   ]
  },
  {
   "cell_type": "code",
   "execution_count": 3,
   "metadata": {},
   "outputs": [],
   "source": [
    "def geraSaida(nome,Ft,Ut,Epsi,Fi,Ti):\n",
    "    nome = nome + '.txt'\n",
    "    f = open(nome,\"w+\")\n",
    "    f.write('Reacoes de apoio [N]\\n')\n",
    "    f.write(str(Ft))\n",
    "    f.write('\\n\\nDeslocamentos [m]\\n')\n",
    "    f.write(str(Ut))\n",
    "    f.write('\\n\\nDeformacoes []\\n')\n",
    "    f.write(str(Epsi))\n",
    "    f.write('\\n\\nForcas internas [N]\\n')\n",
    "    f.write(str(Fi))\n",
    "    f.write('\\n\\nTensoes internas [Pa]\\n')\n",
    "    f.write(str(Ti))\n",
    "    f.close()"
   ]
  },
  {
   "cell_type": "code",
   "execution_count": 4,
   "metadata": {},
   "outputs": [],
   "source": [
    "num_nos, matriz_nos, num_membros, matriz_incidencia, num_cargas, v_carregamento, num_rest, v_rest = importa(\"entrada.xlsx\")"
   ]
  },
  {
   "cell_type": "code",
   "execution_count": 7,
   "metadata": {},
   "outputs": [
    {
     "name": "stdout",
     "output_type": "stream",
     "text": [
      "3\n"
     ]
    }
   ],
   "source": [
    "# Numero de nós\n",
    "print(num_nos)"
   ]
  },
  {
   "cell_type": "code",
   "execution_count": 8,
   "metadata": {},
   "outputs": [
    {
     "name": "stdout",
     "output_type": "stream",
     "text": [
      "[[0.  0.  0.3]\n",
      " [0.  0.4 0.4]]\n"
     ]
    }
   ],
   "source": [
    "# Matriz de nós\n",
    "print(matriz_nos)"
   ]
  },
  {
   "cell_type": "code",
   "execution_count": 9,
   "metadata": {},
   "outputs": [
    {
     "name": "stdout",
     "output_type": "stream",
     "text": [
      "3\n"
     ]
    }
   ],
   "source": [
    "# Número de membros\n",
    "print(num_membros)"
   ]
  },
  {
   "cell_type": "code",
   "execution_count": 10,
   "metadata": {},
   "outputs": [
    {
     "name": "stdout",
     "output_type": "stream",
     "text": [
      "[[1.0e+00 2.0e+00 2.1e+11 2.0e-04]\n",
      " [2.0e+00 3.0e+00 2.1e+11 2.0e-04]\n",
      " [3.0e+00 1.0e+00 2.1e+11 2.0e-04]]\n"
     ]
    }
   ],
   "source": [
    "# Matriz de incidencia\n",
    "print(matriz_incidencia)"
   ]
  },
  {
   "cell_type": "code",
   "execution_count": 11,
   "metadata": {},
   "outputs": [
    {
     "name": "stdout",
     "output_type": "stream",
     "text": [
      "2\n"
     ]
    }
   ],
   "source": [
    "# Número de cargas\n",
    "print(num_cargas)"
   ]
  },
  {
   "cell_type": "code",
   "execution_count": 12,
   "metadata": {},
   "outputs": [
    {
     "name": "stdout",
     "output_type": "stream",
     "text": [
      "[[   0.]\n",
      " [   0.]\n",
      " [   0.]\n",
      " [   0.]\n",
      " [ 150.]\n",
      " [-100.]]\n"
     ]
    }
   ],
   "source": [
    "# Vetor Carregamento\n",
    "print(v_carregamento)"
   ]
  },
  {
   "cell_type": "code",
   "execution_count": 13,
   "metadata": {},
   "outputs": [
    {
     "name": "stdout",
     "output_type": "stream",
     "text": [
      "3\n"
     ]
    }
   ],
   "source": [
    "# Número de restrições\n",
    "print(num_rest)"
   ]
  },
  {
   "cell_type": "code",
   "execution_count": 14,
   "metadata": {},
   "outputs": [
    {
     "name": "stdout",
     "output_type": "stream",
     "text": [
      "[[0.]\n",
      " [2.]\n",
      " [3.]]\n"
     ]
    }
   ],
   "source": [
    "# Vetor de restrições\n",
    "print(v_rest)"
   ]
  },
  {
   "cell_type": "code",
   "execution_count": 53,
   "metadata": {},
   "outputs": [],
   "source": [
    "# Função para achar a matriz de conectividade de CADA elemento\n",
    "\n",
    "def matriz_conectvidade(numero_do_membro):\n",
    "    conectividade = num_membros*[0]\n",
    "    \n",
    "    # Lógica a partir da matriz de incidencia\n",
    "    # O numero do membro-1 é a linha a matriz que eu tenho que utilizar\n",
    "    no_1 = int(matriz_incidencia[numero_do_membro-1, 0])\n",
    "    no_2 = int(matriz_incidencia[numero_do_membro-1, 1])\n",
    "    \n",
    "   \n",
    "    conectividade[no_1-1]= -1\n",
    "    conectividade[no_2-1]= 1\n",
    "    \n",
    "    \n",
    "    \n",
    "    return conectividade\n",
    "    \n",
    "    \n",
    "    \n",
    "    "
   ]
  },
  {
   "cell_type": "code",
   "execution_count": 54,
   "metadata": {},
   "outputs": [
    {
     "name": "stdout",
     "output_type": "stream",
     "text": [
      "[-1, 1, 0]\n"
     ]
    }
   ],
   "source": [
    "# TESTANDO FUNÇÃO ACIMA\n",
    "print(matriz_conectvidade(1))\n",
    "#print(matriz_conectvidade(2))\n",
    "#print(matriz_conectvidade(3))"
   ]
  },
  {
   "cell_type": "code",
   "execution_count": 55,
   "metadata": {},
   "outputs": [],
   "source": [
    "# Função para obter a Matriz de conectividade transposta\n",
    "\n",
    "def conec_global_T():\n",
    "    C = []\n",
    "    i=1\n",
    "    # Achar cada vetor de conectividade\n",
    "    # e ir concatenando\n",
    "    while(i<=num_nos):\n",
    "        Ce = matriz_conectvidade(i)\n",
    "        C.append(Ce)\n",
    "        \n",
    "        i+=1\n",
    "        \n",
    "    Conc = np.array(C)\n",
    "    \n",
    "    Conc_T = np.transpose(Conc)\n",
    "        \n",
    "    return Conc_T\n",
    "    \n",
    "    \n",
    "    \n",
    "    \n",
    "    "
   ]
  },
  {
   "cell_type": "code",
   "execution_count": 57,
   "metadata": {},
   "outputs": [
    {
     "name": "stdout",
     "output_type": "stream",
     "text": [
      "[[-1  0  1]\n",
      " [ 1 -1  0]\n",
      " [ 0  1 -1]]\n"
     ]
    }
   ],
   "source": [
    "C_t=conec_global_T()\n",
    "print(C_t)"
   ]
  },
  {
   "cell_type": "code",
   "execution_count": 58,
   "metadata": {},
   "outputs": [],
   "source": [
    "# Funcção para obter a matriz dos membros\n",
    "\n",
    "def matriz_membros(mat_conc_T):\n",
    "    \n",
    "    matriz_membros= np.dot(matriz_nos, mat_conc_T)\n",
    "    \n",
    "    return matriz_membros\n",
    "    \n",
    "    "
   ]
  },
  {
   "cell_type": "code",
   "execution_count": 59,
   "metadata": {},
   "outputs": [
    {
     "name": "stdout",
     "output_type": "stream",
     "text": [
      "[[ 0.   0.3 -0.3]\n",
      " [ 0.4  0.  -0.4]]\n"
     ]
    }
   ],
   "source": [
    "matriz_dos_membros = matriz_membros(C_t)\n",
    "print(matriz_dos_membros)"
   ]
  },
  {
   "cell_type": "code",
   "execution_count": 79,
   "metadata": {},
   "outputs": [
    {
     "data": {
      "text/plain": [
       "105000000.0"
      ]
     },
     "execution_count": 79,
     "metadata": {},
     "output_type": "execute_result"
    }
   ],
   "source": [
    "2.1e+11*2.0e-04/0.4"
   ]
  },
  {
   "cell_type": "code",
   "execution_count": 88,
   "metadata": {},
   "outputs": [],
   "source": [
    "# Função para achar S de cada elemento\n",
    "\n",
    "def S_e(n_membro):\n",
    "    E =  matriz_incidencia[n_membro-1, 2]\n",
    "    \n",
    "    A = matriz_incidencia[n_membro-1, 3]\n",
    "    \n",
    "    \n",
    "    no_1 = int(matriz_incidencia[n_membro-1, 0])\n",
    "    no_2 = int(matriz_incidencia[n_membro-1, 1])\n",
    "    \n",
    "    # Pegar a coordenada do no_1\n",
    "    x_no1 = matriz_nos[no_1-1, 0]\n",
    "    y_no1 = matriz_nos[no_1-1, 1]\n",
    "    \n",
    "    # Pegar a coordenada do no_2\n",
    "    x_no2 = matriz_nos[no_2-1, 0]\n",
    "    y_no2 = matriz_nos[no_2-1, 1]\n",
    "    \n",
    "    l = sqrt((x_no2-x_no1)**2+(y_no2-y_no1)**2)\n",
    "  \n",
    "    \n",
    "    primeira_parte = (E*A)/l\n",
    "    \n",
    "    \n",
    "    \n",
    "    lista_m = matriz_dos_membros[:, n_membro-1]\n",
    "    \n",
    "    \n",
    "    matriz_lista_m = np.array([lista_m])\n",
    "    \n",
    "    \n",
    "    matriz_lista_m_T = np.transpose(matriz_lista_m)\n",
    "    \n",
    "    \n",
    "    \n",
    "    \n",
    "    \n",
    "    \n",
    "    me = 0\n",
    "    i=0\n",
    "    while(i<len(lista_m)):\n",
    "        me+=(lista_m[i]**2)\n",
    "        \n",
    "        i+=1\n",
    "        \n",
    "    segunda_parte = (np.dot(matriz_lista_m_T, matriz_lista_m))/me\n",
    "    \n",
    "    print(segunda_parte)\n",
    "    \n",
    "    SE = primeira_parte*segunda_parte\n",
    "    \n",
    "    return SE\n",
    "        \n",
    "    \n",
    "    "
   ]
  },
  {
   "cell_type": "code",
   "execution_count": 89,
   "metadata": {},
   "outputs": [
    {
     "name": "stdout",
     "output_type": "stream",
     "text": [
      "105000000.0\n",
      "[[0. 0.]\n",
      " [0. 1.]]\n"
     ]
    },
    {
     "data": {
      "text/plain": [
       "array([[0.00e+00, 0.00e+00],\n",
       "       [0.00e+00, 1.05e+08]])"
      ]
     },
     "execution_count": 89,
     "metadata": {},
     "output_type": "execute_result"
    }
   ],
   "source": [
    "S_e(1)"
   ]
  },
  {
   "cell_type": "code",
   "execution_count": 94,
   "metadata": {},
   "outputs": [],
   "source": [
    "# Função que calcula a Matriz de rigidez para cada elemento\n",
    "\n",
    "def  K_e(n_membro):\n",
    "    MC = matriz_conectvidade(n_membro)\n",
    "    MC_T = np.transpose(MC)\n",
    "    \n",
    "    Se = S_e(n_membro)\n",
    "    \n",
    "    Ke = np.dot(MC, MC_T) *Se\n",
    "    \n",
    "    \n",
    "    return Ke\n",
    "    \n",
    "    "
   ]
  },
  {
   "cell_type": "code",
   "execution_count": 95,
   "metadata": {},
   "outputs": [
    {
     "name": "stdout",
     "output_type": "stream",
     "text": [
      "105000000.0\n",
      "[[0. 0.]\n",
      " [0. 1.]]\n",
      "2\n",
      "[[0.00e+00 0.00e+00]\n",
      " [0.00e+00 1.05e+08]]\n"
     ]
    }
   ],
   "source": [
    "Ke_1=K_e(1)"
   ]
  },
  {
   "cell_type": "code",
   "execution_count": null,
   "metadata": {},
   "outputs": [],
   "source": []
  }
 ],
 "metadata": {
  "kernelspec": {
   "display_name": "Python 3",
   "language": "python",
   "name": "python3"
  },
  "language_info": {
   "codemirror_mode": {
    "name": "ipython",
    "version": 3
   },
   "file_extension": ".py",
   "mimetype": "text/x-python",
   "name": "python",
   "nbconvert_exporter": "python",
   "pygments_lexer": "ipython3",
   "version": "3.7.6"
  }
 },
 "nbformat": 4,
 "nbformat_minor": 4
}
