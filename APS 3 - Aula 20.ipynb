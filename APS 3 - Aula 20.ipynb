{
 "cells": [
  {
   "cell_type": "markdown",
   "metadata": {},
   "source": [
    "# APS 3 - Aula 20\n",
    "---"
   ]
  },
  {
   "cell_type": "code",
   "execution_count": 1,
   "metadata": {},
   "outputs": [],
   "source": [
    "import matplotlib.pyplot as plt\n",
    "import numpy as np\n",
    "from funcoesTermosol import *\n",
    "from app_utils import *"
   ]
  },
  {
   "cell_type": "code",
   "execution_count": 2,
   "metadata": {},
   "outputs": [],
   "source": [
    "num_nos, matriz_nos, num_membros, matriz_incidencia, num_cargas, v_carregamento, num_rest, v_rest = importa(\"entrada.xlsx\")"
   ]
  },
  {
   "cell_type": "code",
   "execution_count": 3,
   "metadata": {},
   "outputs": [],
   "source": [
    "conectividade_global = conec_global_T(num_nos, matriz_incidencia)"
   ]
  },
  {
   "cell_type": "code",
   "execution_count": 4,
   "metadata": {},
   "outputs": [],
   "source": [
    "matriz_dos_membros = np.dot(matriz_nos, conectividade_global)"
   ]
  },
  {
   "cell_type": "code",
   "execution_count": 5,
   "metadata": {},
   "outputs": [],
   "source": [
    "KG = matriz_global(num_membros, matriz_incidencia, matriz_nos, matriz_dos_membros)"
   ]
  },
  {
   "cell_type": "code",
   "execution_count": 6,
   "metadata": {},
   "outputs": [],
   "source": [
    "Pg = np.array([0, 150, -100]).T # Condição de contorno"
   ]
  },
  {
   "cell_type": "code",
   "execution_count": 7,
   "metadata": {},
   "outputs": [],
   "source": [
    "KG_solucao = MR_para_solucao(KG)"
   ]
  },
  {
   "cell_type": "code",
   "execution_count": 8,
   "metadata": {},
   "outputs": [],
   "source": [
    "u = calcula_deslocamentos(KG_solucao, Pg)"
   ]
  },
  {
   "cell_type": "code",
   "execution_count": 9,
   "metadata": {},
   "outputs": [],
   "source": [
    "u_completo = np.array([0, u[0], 0, 0, u[1], u[2]])"
   ]
  },
  {
   "cell_type": "code",
   "execution_count": 10,
   "metadata": {},
   "outputs": [],
   "source": [
    "R1x = calculate_force(KG, u_completo, 0) \n",
    "R2x = calculate_force(KG, u_completo, 2)\n",
    "R2y = calculate_force(KG, u_completo, 3)"
   ]
  },
  {
   "cell_type": "code",
   "execution_count": 87,
   "metadata": {},
   "outputs": [],
   "source": [
    "def tensao_e_deformacao2(n_elemento):\n",
    "    E =  matriz_incidencia[n_elemento-1, 2]  \n",
    "    \n",
    "    no_1 = int(matriz_incidencia[n_elemento-1, 0])\n",
    "    no_2 = int(matriz_incidencia[n_elemento-1, 1])\n",
    "    \n",
    "    # Pegar a coordenada do no_1\n",
    "    x_no1 = matriz_nos[0, no_1-1]\n",
    "    y_no1 = matriz_nos[1, no_1-1]\n",
    "    \n",
    "    # Pegar a coordenada do no_2\n",
    "    x_no2 = matriz_nos[0, no_2-1]\n",
    "    y_no2 = matriz_nos[1, no_2-1]\n",
    "    \n",
    "    l = sqrt((x_no2-x_no1)**2+(y_no2-y_no1)**2)\n",
    "    \n",
    "    c1 = [-1,1]\n",
    "    c =np.array(c1)\n",
    "    print(c)\n",
    "    \n",
    "    u1 = u[n_elemento,0]\n",
    "    u0 = u[n_elemento-1,0]\n",
    "    \n",
    "    us = [u0,u1]\n",
    "    \n",
    "    ut = np.array(us).T\n",
    "    print(ut)\n",
    "    \n",
    "    tensao = (E/l)  * np.dot(ut, c)\n",
    "    print(E/l)\n",
    "    print(np.dot(ut, c))\n",
    "    return tensao"
   ]
  },
  {
   "cell_type": "code",
   "execution_count": 36,
   "metadata": {},
   "outputs": [],
   "source": [
    "def tensao_e_deformacao(n_membro):\n",
    "    \n",
    "    matriz = np.array(([-1, 1]))\n",
    "    if n_membro==1:\n",
    "        \n",
    "        matriz_aux=np.array(([0], [u[n_membro-1, 0]]))\n",
    "        \n",
    "        \n",
    "    else:\n",
    "        matriz_aux=np.array(([u[n_membro-2, 0]], [u[n_membro-1, 0]]))\n",
    "       \n",
    "    E =  matriz_incidencia[n_membro-1, 2]\n",
    "    \n",
    "    A = matriz_incidencia[n_membro-1, 3]\n",
    "    \n",
    "    \n",
    "    no_1 = int(matriz_incidencia[n_membro-1, 0])\n",
    "    no_2 = int(matriz_incidencia[n_membro-1, 1])\n",
    "    \n",
    "    # Pegar a coordenada do no_1\n",
    "    x_no1 = matriz_nos[0, no_1-1]\n",
    "    y_no1 = matriz_nos[1, no_1-1]\n",
    "    \n",
    "    # Pegar a coordenada do no_2\n",
    "    x_no2 = matriz_nos[0, no_2-1]\n",
    "    y_no2 = matriz_nos[1, no_2-1]\n",
    "    \n",
    "    l = sqrt((x_no2-x_no1)**2+(y_no2-y_no1)**2)\n",
    "    \n",
    "        \n",
    "    tensao = E/l * np.dot(matriz, matriz_aux)\n",
    "    \n",
    "    deformacao = 1/l * np.dot(matriz, matriz_aux)\n",
    "    \n",
    "    return tensao, deformacao\n",
    "        "
   ]
  },
  {
   "cell_type": "code",
   "execution_count": 37,
   "metadata": {},
   "outputs": [
    {
     "name": "stdout",
     "output_type": "stream",
     "text": [
      "tensão1: [-500000.] deformação1: [-2.38095238e-06]\n",
      "tensão2: [1791666.66666667] deformação2: [8.53174603e-06]\n",
      "tensão3: [-2362500.] deformação3: [-1.125e-05]\n"
     ]
    }
   ],
   "source": [
    "e=1\n",
    "\n",
    "while e<=num_membros:\n",
    "    t, d = tensao_e_deformacao(e)\n",
    "    print(\"tensão\"+str(e)+\": \"+str(t)+\" deformação\"+str(e)+\": \"+str(d))\n",
    "    \n",
    "    e+=1"
   ]
  },
  {
   "cell_type": "code",
   "execution_count": null,
   "metadata": {},
   "outputs": [],
   "source": []
  }
 ],
 "metadata": {
  "kernelspec": {
   "display_name": "Python 3",
   "language": "python",
   "name": "python3"
  },
  "language_info": {
   "codemirror_mode": {
    "name": "ipython",
    "version": 3
   },
   "file_extension": ".py",
   "mimetype": "text/x-python",
   "name": "python",
   "nbconvert_exporter": "python",
   "pygments_lexer": "ipython3",
   "version": "3.8.3"
  }
 },
 "nbformat": 4,
 "nbformat_minor": 4
}
