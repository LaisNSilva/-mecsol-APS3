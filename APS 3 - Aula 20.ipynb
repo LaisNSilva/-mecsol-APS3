{
 "cells": [
  {
   "cell_type": "markdown",
   "metadata": {},
   "source": [
    "# APS 3 - Aula 20"
   ]
  },
  {
   "cell_type": "markdown",
   "metadata": {},
   "source": [
    "A funcao 'plota' produz um gráfico da estrutura definida pela matriz de nos N \n",
    "e pela incidencia Inc.\n",
    "\n",
    "Sugestao de uso:\n",
    "\n",
    "from funcoesTermosol import plota\n",
    "plota(N,Inc)\n",
    "-------------------------------------------------------------------------------\n",
    "A funcao 'importa' retorna o numero de nos [nn], a matriz dos nos [N], o numero\n",
    "de membros [nm], a matriz de incidencia [Inc], o numero de cargas [nc], o vetor\n",
    "carregamento [F], o numero de restricoes [nr] e o vetor de restricoes [R] \n",
    "contidos no arquivo de entrada.\n",
    "\n",
    "Sugestao de uso:\n",
    "    \n",
    "from funcoesTermosol import importa\n",
    "[nn,N,nm,Inc,nc,F,nr,R] = importa('entrada.xlsx')\n",
    "-------------------------------------------------------------------------------\n",
    "A funcao 'geraSaida' cria um arquivo nome.txt contendo as reacoes de apoio Ft, \n",
    "deslocamentos Ut, forcas Fi e tensoes Ti internas. As entradas devem ser \n",
    "vetores coluna.\n",
    "\n",
    "Sugestao de uso:\n",
    "    \n",
    "from funcoesTermosol import geraSaida\n",
    "geraSaida(nome,Ft,Ut,Epsi,Fi,Ti)\n",
    "-------------------------------------------------------------------------------"
   ]
  },
  {
   "cell_type": "code",
   "execution_count": 1,
   "metadata": {},
   "outputs": [],
   "source": [
    "from cmath import *\n",
    "from math import *\n",
    "from numpy import linalg\n",
    "import numpy as np\n",
    "import matplotlib.pyplot as plt\n",
    "import numpy as np\n",
    "import matplotlib.pyplot as plt"
   ]
  },
  {
   "cell_type": "markdown",
   "metadata": {},
   "source": [
    "## Funções:"
   ]
  },
  {
   "cell_type": "code",
   "execution_count": 2,
   "metadata": {},
   "outputs": [],
   "source": [
    "def plota(N,Inc):\n",
    "    # Numero de membros\n",
    "    nm = len(Inc[:,0])\n",
    "    \n",
    "    import matplotlib as mpl\n",
    "    import matplotlib.pyplot as plt\n",
    "\n",
    "#    plt.show()\n",
    "    fig = plt.figure()\n",
    "    # Passa por todos os membros\n",
    "    for i in range(nm):\n",
    "        \n",
    "        # encontra no inicial [n1] e final [n2] \n",
    "        n1 = int(Inc[i,0])\n",
    "        n2 = int(Inc[i,1])        \n",
    "\n",
    "        plt.plot([N[0,n1-1],N[0,n2-1]],[N[1,n1-1],N[1,n2-1]],color='r',linewidth=3)\n",
    "\n",
    "\n",
    "    plt.xlabel('x [m]')\n",
    "    plt.ylabel('y [m]')\n",
    "    plt.grid(True)\n",
    "    plt.axis('equal')\n",
    "    plt.show()\n",
    "    "
   ]
  },
  {
   "cell_type": "code",
   "execution_count": 3,
   "metadata": {},
   "outputs": [],
   "source": [
    "def importa(entradaNome):\n",
    "    \n",
    "    import numpy as np\n",
    "    import xlrd\n",
    "    \n",
    "    arquivo = xlrd.open_workbook(entradaNome)\n",
    "    \n",
    "    ################################################## Ler os nos\n",
    "    nos = arquivo.sheet_by_name('Nos')\n",
    "    \n",
    "    # Numero de nos\n",
    "    nn = int(nos.cell(1,3).value)\n",
    "                 \n",
    "    # Matriz dos nós\n",
    "    N = np.zeros((2,nn))\n",
    "    \n",
    "    for c in range(nn):\n",
    "        N[0,c] = nos.cell(c+1,0).value\n",
    "        N[1,c] = nos.cell(c+1,1).value\n",
    "    \n",
    "    ################################################## Ler a incidencia\n",
    "    incid = arquivo.sheet_by_name('Incidencia')\n",
    "    \n",
    "    # Numero de membros\n",
    "    nm = int(incid.cell(1,5).value)\n",
    "                 \n",
    "    # Matriz de incidencia\n",
    "    Inc = np.zeros((nm,4))\n",
    "    \n",
    "    for c in range(nm):\n",
    "        Inc[c,0] = int(incid.cell(c+1,0).value)\n",
    "        Inc[c,1] = int(incid.cell(c+1,1).value)\n",
    "        Inc[c,2] = incid.cell(c+1,2).value\n",
    "        Inc[c,3] = incid.cell(c+1,3).value\n",
    "    \n",
    "    ################################################## Ler as cargas\n",
    "    carg = arquivo.sheet_by_name('Carregamento')\n",
    "    \n",
    "    # Numero de cargas\n",
    "    nc = int(carg.cell(1,4).value)\n",
    "                 \n",
    "    # Vetor carregamento\n",
    "    F = np.zeros((nn*2,1))\n",
    "    \n",
    "    for c in range(nc):\n",
    "        no = carg.cell(c+1,0).value\n",
    "        xouy = carg.cell(c+1,1).value\n",
    "        GDL = int(no*2-(2-xouy)) \n",
    "        F[GDL-1,0] = carg.cell(c+1,2).value\n",
    "         \n",
    "    ################################################## Ler restricoes\n",
    "    restr = arquivo.sheet_by_name('Restricao')\n",
    "    \n",
    "    # Numero de restricoes\n",
    "    nr = int(restr.cell(1,3).value)\n",
    "                 \n",
    "    # Vetor com os graus de liberdade restritos\n",
    "    R = np.zeros((nr,1))\n",
    "    \n",
    "    for c in range(nr):\n",
    "        no = restr.cell(c+1,0).value\n",
    "        xouy = restr.cell(c+1,1).value\n",
    "        GDL = no*2-(2-xouy) \n",
    "        R[c,0] = GDL-1\n",
    "\n",
    "\n",
    "    return nn,N,nm,Inc,nc,F,nr,R"
   ]
  },
  {
   "cell_type": "code",
   "execution_count": 4,
   "metadata": {},
   "outputs": [],
   "source": [
    "def geraSaida(nome,Ft,Ut,Epsi,Fi,Ti):\n",
    "    nome = nome + '.txt'\n",
    "    f = open(nome,\"w+\")\n",
    "    f.write('Reacoes de apoio [N]\\n')\n",
    "    f.write(str(Ft))\n",
    "    f.write('\\n\\nDeslocamentos [m]\\n')\n",
    "    f.write(str(Ut))\n",
    "    f.write('\\n\\nDeformacoes []\\n')\n",
    "    f.write(str(Epsi))\n",
    "    f.write('\\n\\nForcas internas [N]\\n')\n",
    "    f.write(str(Fi))\n",
    "    f.write('\\n\\nTensoes internas [Pa]\\n')\n",
    "    f.write(str(Ti))\n",
    "    f.close()"
   ]
  },
  {
   "cell_type": "code",
   "execution_count": 5,
   "metadata": {},
   "outputs": [],
   "source": [
    "num_nos, matriz_nos, num_membros, matriz_incidencia, num_cargas, v_carregamento, num_rest, v_rest = importa(\"entrada.xlsx\")"
   ]
  },
  {
   "cell_type": "code",
   "execution_count": 6,
   "metadata": {},
   "outputs": [
    {
     "name": "stdout",
     "output_type": "stream",
     "text": [
      "3\n"
     ]
    }
   ],
   "source": [
    "# Numero de nós\n",
    "print(num_nos)"
   ]
  },
  {
   "cell_type": "code",
   "execution_count": 7,
   "metadata": {},
   "outputs": [
    {
     "name": "stdout",
     "output_type": "stream",
     "text": [
      "[[0.  0.  0.3]\n",
      " [0.  0.4 0.4]]\n"
     ]
    }
   ],
   "source": [
    "# Matriz de nós\n",
    "print(matriz_nos)"
   ]
  },
  {
   "cell_type": "code",
   "execution_count": 8,
   "metadata": {},
   "outputs": [
    {
     "name": "stdout",
     "output_type": "stream",
     "text": [
      "3\n"
     ]
    }
   ],
   "source": [
    "# Número de membros\n",
    "print(num_membros)"
   ]
  },
  {
   "cell_type": "code",
   "execution_count": 9,
   "metadata": {},
   "outputs": [
    {
     "name": "stdout",
     "output_type": "stream",
     "text": [
      "[[1.0e+00 2.0e+00 2.1e+11 2.0e-04]\n",
      " [2.0e+00 3.0e+00 2.1e+11 2.0e-04]\n",
      " [3.0e+00 1.0e+00 2.1e+11 2.0e-04]]\n"
     ]
    }
   ],
   "source": [
    "# Matriz de incidencia\n",
    "print(matriz_incidencia)"
   ]
  },
  {
   "cell_type": "code",
   "execution_count": 10,
   "metadata": {},
   "outputs": [
    {
     "name": "stdout",
     "output_type": "stream",
     "text": [
      "2\n"
     ]
    }
   ],
   "source": [
    "# Número de cargas\n",
    "print(num_cargas)"
   ]
  },
  {
   "cell_type": "code",
   "execution_count": 11,
   "metadata": {},
   "outputs": [
    {
     "name": "stdout",
     "output_type": "stream",
     "text": [
      "[[   0.]\n",
      " [   0.]\n",
      " [   0.]\n",
      " [   0.]\n",
      " [ 150.]\n",
      " [-100.]]\n"
     ]
    }
   ],
   "source": [
    "# Vetor Carregamento\n",
    "print(v_carregamento)"
   ]
  },
  {
   "cell_type": "code",
   "execution_count": 12,
   "metadata": {},
   "outputs": [
    {
     "name": "stdout",
     "output_type": "stream",
     "text": [
      "3\n"
     ]
    }
   ],
   "source": [
    "# Número de restrições\n",
    "print(num_rest)"
   ]
  },
  {
   "cell_type": "code",
   "execution_count": 13,
   "metadata": {},
   "outputs": [
    {
     "name": "stdout",
     "output_type": "stream",
     "text": [
      "[[0.]\n",
      " [2.]\n",
      " [3.]]\n"
     ]
    }
   ],
   "source": [
    "# Vetor de restrições\n",
    "print(v_rest)"
   ]
  },
  {
   "cell_type": "code",
   "execution_count": 14,
   "metadata": {},
   "outputs": [],
   "source": [
    "# Função para achar a matriz de conectividade de CADA elemento\n",
    "\n",
    "def matriz_conectvidade(numero_do_membro):\n",
    "    conectividade = num_membros*[0]\n",
    "    \n",
    "    # Lógica a partir da matriz de incidencia\n",
    "    # O numero do membro-1 é a linha a matriz que eu tenho que utilizar\n",
    "    no_1 = int(matriz_incidencia[numero_do_membro-1, 0])\n",
    "    no_2 = int(matriz_incidencia[numero_do_membro-1, 1])\n",
    "    \n",
    "   \n",
    "    conectividade[no_1-1]= -1\n",
    "    conectividade[no_2-1]= 1\n",
    "    \n",
    "    \n",
    "    \n",
    "    return conectividade\n",
    "    \n",
    "    \n",
    "    \n",
    "    "
   ]
  },
  {
   "cell_type": "code",
   "execution_count": 15,
   "metadata": {},
   "outputs": [
    {
     "name": "stdout",
     "output_type": "stream",
     "text": [
      "[-1, 1, 0]\n"
     ]
    }
   ],
   "source": [
    "# TESTANDO FUNÇÃO ACIMA\n",
    "print(matriz_conectvidade(1))\n",
    "#print(matriz_conectvidade(2))\n",
    "#print(matriz_conectvidade(3))"
   ]
  },
  {
   "cell_type": "code",
   "execution_count": 16,
   "metadata": {},
   "outputs": [],
   "source": [
    "# Função para obter a Matriz de conectividade transposta\n",
    "\n",
    "def conec_global_T():\n",
    "    C = []\n",
    "    i=1\n",
    "    # Achar cada vetor de conectividade\n",
    "    # e ir concatenando\n",
    "    while(i<=num_nos):\n",
    "        Ce = matriz_conectvidade(i)\n",
    "        C.append(Ce)\n",
    "        \n",
    "        i+=1\n",
    "        \n",
    "    Conc = np.array(C)\n",
    "    \n",
    "    Conc_T = np.transpose(Conc)\n",
    "        \n",
    "    return Conc_T\n",
    "    \n",
    "    \n",
    "    \n",
    "    \n",
    "    "
   ]
  },
  {
   "cell_type": "code",
   "execution_count": 17,
   "metadata": {},
   "outputs": [
    {
     "name": "stdout",
     "output_type": "stream",
     "text": [
      "[[-1  0  1]\n",
      " [ 1 -1  0]\n",
      " [ 0  1 -1]]\n"
     ]
    }
   ],
   "source": [
    "C_t=conec_global_T()\n",
    "print(C_t)"
   ]
  },
  {
   "cell_type": "code",
   "execution_count": 18,
   "metadata": {},
   "outputs": [],
   "source": [
    "# Funcção para obter a matriz dos membros\n",
    "\n",
    "def matriz_membros(mat_conc_T):\n",
    "    print(matriz_nos)\n",
    "    matriz_membros= np.dot(matriz_nos, mat_conc_T)\n",
    "    \n",
    "    return matriz_membros\n",
    "    \n",
    "    "
   ]
  },
  {
   "cell_type": "code",
   "execution_count": 19,
   "metadata": {},
   "outputs": [
    {
     "name": "stdout",
     "output_type": "stream",
     "text": [
      "[[0.  0.  0.3]\n",
      " [0.  0.4 0.4]]\n",
      "[[ 0.   0.3 -0.3]\n",
      " [ 0.4  0.  -0.4]]\n"
     ]
    }
   ],
   "source": [
    "matriz_dos_membros = matriz_membros(C_t)\n",
    "print(matriz_dos_membros)"
   ]
  },
  {
   "cell_type": "code",
   "execution_count": 20,
   "metadata": {},
   "outputs": [],
   "source": [
    "# Função para achar S de cada elemento\n",
    "\n",
    "def S_e(n_membro):\n",
    "    E =  matriz_incidencia[n_membro-1, 2]\n",
    "    \n",
    "    A = matriz_incidencia[n_membro-1, 3]\n",
    "    \n",
    "    \n",
    "    no_1 = int(matriz_incidencia[n_membro-1, 0])\n",
    "    no_2 = int(matriz_incidencia[n_membro-1, 1])\n",
    "    \n",
    "    # Pegar a coordenada do no_1\n",
    "    x_no1 = matriz_nos[0, no_1-1]\n",
    "    y_no1 = matriz_nos[1, no_1-1]\n",
    "    \n",
    "    # Pegar a coordenada do no_2\n",
    "    x_no2 = matriz_nos[0, no_2-1]\n",
    "    y_no2 = matriz_nos[1, no_2-1]\n",
    "    \n",
    "    l = sqrt((x_no2-x_no1)**2+(y_no2-y_no1)**2)\n",
    "  \n",
    "    \n",
    "    primeira_parte = (E*A)/l\n",
    "    \n",
    "    \n",
    "    \n",
    "    lista_m = matriz_dos_membros[:, n_membro-1]\n",
    "    \n",
    "    \n",
    "    matriz_lista_m = np.array([lista_m])\n",
    "    \n",
    "    \n",
    "    matriz_lista_m_T = np.transpose(matriz_lista_m)\n",
    "        \n",
    "    \n",
    "    me = 0\n",
    "    i=0\n",
    "    while(i<len(lista_m)):\n",
    "        me+=(lista_m[i]**2)\n",
    "        \n",
    "        i+=1\n",
    "        \n",
    "    segunda_parte = (np.dot(matriz_lista_m_T, matriz_lista_m))/me\n",
    "    \n",
    "    \n",
    "    \n",
    "    SE = primeira_parte*segunda_parte\n",
    "    \n",
    "    return SE\n",
    "        \n",
    "    \n",
    "    "
   ]
  },
  {
   "cell_type": "code",
   "execution_count": 21,
   "metadata": {},
   "outputs": [
    {
     "data": {
      "text/plain": [
       "array([[30240000.        , 40320000.        ],\n",
       "       [40320000.        , 53760000.00000001]])"
      ]
     },
     "execution_count": 21,
     "metadata": {},
     "output_type": "execute_result"
    }
   ],
   "source": [
    "S_e(3)"
   ]
  },
  {
   "cell_type": "code",
   "execution_count": 22,
   "metadata": {},
   "outputs": [],
   "source": [
    "# Função que calcula a Matriz de rigidez para cada elemento\n",
    "\n",
    "def  K_e(n_membro):\n",
    "    MC = np.array([matriz_conectvidade(n_membro)])\n",
    "    MC_T = np.transpose(MC)\n",
    "    \n",
    "    \n",
    "    Se = S_e(n_membro)\n",
    "    \n",
    "    dot = np.kron(MC, MC_T)\n",
    "    \n",
    "    \n",
    "    \n",
    "    Ke = np.kron(dot, Se)\n",
    "    \n",
    "    \n",
    "    return Ke\n",
    "    \n",
    "    "
   ]
  },
  {
   "cell_type": "code",
   "execution_count": 23,
   "metadata": {},
   "outputs": [
    {
     "name": "stdout",
     "output_type": "stream",
     "text": [
      "[[ 0.00e+00  0.00e+00 -0.00e+00 -0.00e+00  0.00e+00  0.00e+00]\n",
      " [ 0.00e+00  1.05e+08 -0.00e+00 -1.05e+08  0.00e+00  0.00e+00]\n",
      " [-0.00e+00 -0.00e+00  0.00e+00  0.00e+00  0.00e+00  0.00e+00]\n",
      " [-0.00e+00 -1.05e+08  0.00e+00  1.05e+08  0.00e+00  0.00e+00]\n",
      " [ 0.00e+00  0.00e+00  0.00e+00  0.00e+00  0.00e+00  0.00e+00]\n",
      " [ 0.00e+00  0.00e+00  0.00e+00  0.00e+00  0.00e+00  0.00e+00]]\n"
     ]
    }
   ],
   "source": [
    "Ke_1=K_e(1)\n",
    "print(Ke_1)"
   ]
  },
  {
   "cell_type": "code",
   "execution_count": 24,
   "metadata": {},
   "outputs": [],
   "source": [
    "# Função para achar a matriz de rigidez global \n",
    "\n",
    "def matriz_global():\n",
    "    i=1\n",
    "    Kg = np.zeros((6, 6)) #sempre vai ser num_membros*2???\n",
    "    while i<=num_membros:\n",
    "        ke=K_e(i)\n",
    "        \n",
    "        Kg+=ke\n",
    "        \n",
    "        i+=1\n",
    "        \n",
    "    return Kg"
   ]
  },
  {
   "cell_type": "code",
   "execution_count": 25,
   "metadata": {},
   "outputs": [],
   "source": [
    "KG = matriz_global()"
   ]
  },
  {
   "cell_type": "code",
   "execution_count": 26,
   "metadata": {},
   "outputs": [
    {
     "name": "stdout",
     "output_type": "stream",
     "text": [
      "[[ 3.0240e+07  4.0320e+07  0.0000e+00  0.0000e+00 -3.0240e+07 -4.0320e+07]\n",
      " [ 4.0320e+07  1.5876e+08  0.0000e+00 -1.0500e+08 -4.0320e+07 -5.3760e+07]\n",
      " [ 0.0000e+00  0.0000e+00  1.4000e+08  0.0000e+00 -1.4000e+08  0.0000e+00]\n",
      " [ 0.0000e+00 -1.0500e+08  0.0000e+00  1.0500e+08  0.0000e+00  0.0000e+00]\n",
      " [-3.0240e+07 -4.0320e+07 -1.4000e+08  0.0000e+00  1.7024e+08  4.0320e+07]\n",
      " [-4.0320e+07 -5.3760e+07  0.0000e+00  0.0000e+00  4.0320e+07  5.3760e+07]]\n"
     ]
    }
   ],
   "source": [
    "print(KG)"
   ]
  },
  {
   "cell_type": "code",
   "execution_count": 27,
   "metadata": {},
   "outputs": [],
   "source": [
    "# Vetor globla de forças concentradas\n",
    "# Pg=[R1x, 0, R2x, R2y, 150, -100]\n",
    "# Condição de contorno\n",
    "Pg=[0, 150, -100]\n",
    "Pg=np.array([Pg])\n",
    "Pg =  np.transpose(Pg)"
   ]
  },
  {
   "cell_type": "code",
   "execution_count": 40,
   "metadata": {},
   "outputs": [],
   "source": [
    "# Aplicando as condições de contorno\n",
    "\n",
    "def MR_para_soluca(matriz):\n",
    "   \n",
    "    matriz_certa = np.zeros((6, 6))\n",
    "    \n",
    "    # Apaga primeira, terceira e quarta linhas\n",
    "    matriz_certa = np.delete(matriz, (0, 2, 3), axis=0)\n",
    "    # Apaga primeira terceira e quarta colunas\n",
    "    matriz_certa = np.delete(matriz_certa, (0, 2, 3), axis=1)\n",
    "    \n",
    "    \n",
    "    \n",
    "    return matriz_certa"
   ]
  },
  {
   "cell_type": "code",
   "execution_count": null,
   "metadata": {},
   "outputs": [],
   "source": []
  },
  {
   "cell_type": "code",
   "execution_count": 41,
   "metadata": {},
   "outputs": [
    {
     "name": "stdout",
     "output_type": "stream",
     "text": [
      "[[ 1.5876e+08 -4.0320e+07 -5.3760e+07]\n",
      " [-4.0320e+07  1.7024e+08  4.0320e+07]\n",
      " [-5.3760e+07  4.0320e+07  5.3760e+07]]\n"
     ]
    }
   ],
   "source": [
    "KG_solucao=MR_para_soluca(KG)\n",
    "print(KG_solucao)"
   ]
  },
  {
   "cell_type": "code",
   "execution_count": 30,
   "metadata": {},
   "outputs": [],
   "source": [
    "# Descobrindo u2 u5 u6\n",
    "import scipy.linalg\n",
    "def calcula_deslocamentos(matriz_rigidez, matriz_força):\n",
    "    \n",
    "    L,U = scipy.linalg.lu(matriz_rigidez, permute_l=True)\n",
    "    \n",
    "    y = scipy.linalg.solve(L, matriz_força)\n",
    "    \n",
    "    x = scipy.linalg.solve_triangular(U, y)\n",
    "    \n",
    "    return x"
   ]
  },
  {
   "cell_type": "code",
   "execution_count": 31,
   "metadata": {},
   "outputs": [
    {
     "data": {
      "text/plain": [
       "array([[-9.52380952e-07],\n",
       "       [ 1.60714286e-06],\n",
       "       [-4.01785714e-06]])"
      ]
     },
     "execution_count": 31,
     "metadata": {},
     "output_type": "execute_result"
    }
   ],
   "source": [
    "u = calcula_deslocamentos(KG_solucao, Pg)\n",
    "u"
   ]
  },
  {
   "cell_type": "code",
   "execution_count": 32,
   "metadata": {},
   "outputs": [
    {
     "data": {
      "text/plain": [
       "array([[ 0.00000000e+00],\n",
       "       [-9.52380952e-07],\n",
       "       [ 0.00000000e+00],\n",
       "       [ 0.00000000e+00],\n",
       "       [ 1.60714286e-06],\n",
       "       [-4.01785714e-06]])"
      ]
     },
     "execution_count": 32,
     "metadata": {},
     "output_type": "execute_result"
    }
   ],
   "source": [
    "u_completo = np.zeros((6, 1))\n",
    "u_completo[1, 0]=u[0,0]\n",
    "u_completo[4, 0]=u[1,0]\n",
    "u_completo[5, 0]=u[2,0]\n",
    "u_completo"
   ]
  },
  {
   "cell_type": "code",
   "execution_count": 33,
   "metadata": {},
   "outputs": [
    {
     "name": "stdout",
     "output_type": "stream",
     "text": [
      "74.99999999999997\n"
     ]
    }
   ],
   "source": [
    "e=1\n",
    "R1x=0\n",
    "while e<=6:\n",
    "    R1x+=KG[0, e-1]*u_completo[e-1, 0]\n",
    "    \n",
    "    e+=1\n",
    "print(R1x)"
   ]
  },
  {
   "cell_type": "code",
   "execution_count": 34,
   "metadata": {},
   "outputs": [
    {
     "name": "stdout",
     "output_type": "stream",
     "text": [
      "-224.99999999999997\n"
     ]
    }
   ],
   "source": [
    "e=1\n",
    "R2x=0\n",
    "while e<=6:\n",
    "    R2x+=KG[2, e-1]*u_completo[e-1, 0]\n",
    "    \n",
    "    e+=1\n",
    "print(R2x)"
   ]
  },
  {
   "cell_type": "code",
   "execution_count": 35,
   "metadata": {
    "scrolled": true
   },
   "outputs": [
    {
     "name": "stdout",
     "output_type": "stream",
     "text": [
      "100.00000000000001\n"
     ]
    }
   ],
   "source": [
    "e=1\n",
    "R2y=0\n",
    "while e<=6:\n",
    "    R2y+=KG[3, e-1]*u_completo[e-1, 0]\n",
    "    \n",
    "    e+=1\n",
    "print(R2y)"
   ]
  },
  {
   "cell_type": "code",
   "execution_count": 87,
   "metadata": {},
   "outputs": [],
   "source": [
    "def tensao_e_deformacao2(n_elemento):\n",
    "    E =  matriz_incidencia[n_elemento-1, 2]  \n",
    "    \n",
    "    no_1 = int(matriz_incidencia[n_elemento-1, 0])\n",
    "    no_2 = int(matriz_incidencia[n_elemento-1, 1])\n",
    "    \n",
    "    # Pegar a coordenada do no_1\n",
    "    x_no1 = matriz_nos[0, no_1-1]\n",
    "    y_no1 = matriz_nos[1, no_1-1]\n",
    "    \n",
    "    # Pegar a coordenada do no_2\n",
    "    x_no2 = matriz_nos[0, no_2-1]\n",
    "    y_no2 = matriz_nos[1, no_2-1]\n",
    "    \n",
    "    l = sqrt((x_no2-x_no1)**2+(y_no2-y_no1)**2)\n",
    "    \n",
    "    c1 = [-1,1]\n",
    "    c =np.array(c1)\n",
    "    print(c)\n",
    "    \n",
    "    u1 = u[n_elemento,0]\n",
    "    u0 = u[n_elemento-1,0]\n",
    "    \n",
    "    us = [u0,u1]\n",
    "    \n",
    "    ut = np.array(us).T\n",
    "    print(ut)\n",
    "    \n",
    "    tensao = (E/l)  * np.dot(ut, c)\n",
    "    print(E/l)\n",
    "    print(np.dot(ut, c))\n",
    "    return tensao"
   ]
  },
  {
   "cell_type": "code",
   "execution_count": 88,
   "metadata": {},
   "outputs": [
    {
     "name": "stdout",
     "output_type": "stream",
     "text": [
      "[-1  1]\n",
      "[-9.52380952e-07  1.60714286e-06]\n",
      "525000000000.0\n",
      "2.5595238095238095e-06\n"
     ]
    },
    {
     "data": {
      "text/plain": [
       "1343750.0"
      ]
     },
     "execution_count": 88,
     "metadata": {},
     "output_type": "execute_result"
    }
   ],
   "source": [
    "tensao_e_deformacao2(1)"
   ]
  },
  {
   "cell_type": "code",
   "execution_count": 36,
   "metadata": {},
   "outputs": [],
   "source": [
    "def tensao_e_deformacao(n_membro):\n",
    "    \n",
    "    matriz = np.array(([-1, 1]))\n",
    "    if n_membro==1:\n",
    "        \n",
    "        matriz_aux=np.array(([0], [u[n_membro-1, 0]]))\n",
    "        \n",
    "        \n",
    "    else:\n",
    "        matriz_aux=np.array(([u[n_membro-2, 0]], [u[n_membro-1, 0]]))\n",
    "       \n",
    "    E =  matriz_incidencia[n_membro-1, 2]\n",
    "    \n",
    "    A = matriz_incidencia[n_membro-1, 3]\n",
    "    \n",
    "    \n",
    "    no_1 = int(matriz_incidencia[n_membro-1, 0])\n",
    "    no_2 = int(matriz_incidencia[n_membro-1, 1])\n",
    "    \n",
    "    # Pegar a coordenada do no_1\n",
    "    x_no1 = matriz_nos[0, no_1-1]\n",
    "    y_no1 = matriz_nos[1, no_1-1]\n",
    "    \n",
    "    # Pegar a coordenada do no_2\n",
    "    x_no2 = matriz_nos[0, no_2-1]\n",
    "    y_no2 = matriz_nos[1, no_2-1]\n",
    "    \n",
    "    l = sqrt((x_no2-x_no1)**2+(y_no2-y_no1)**2)\n",
    "    \n",
    "        \n",
    "    tensao = E/l * np.dot(matriz, matriz_aux)\n",
    "    \n",
    "    deformacao = 1/l * np.dot(matriz, matriz_aux)\n",
    "    \n",
    "    return tensao, deformacao\n",
    "        "
   ]
  },
  {
   "cell_type": "code",
   "execution_count": 37,
   "metadata": {},
   "outputs": [
    {
     "name": "stdout",
     "output_type": "stream",
     "text": [
      "tensão1: [-500000.] deformação1: [-2.38095238e-06]\n",
      "tensão2: [1791666.66666667] deformação2: [8.53174603e-06]\n",
      "tensão3: [-2362500.] deformação3: [-1.125e-05]\n"
     ]
    }
   ],
   "source": [
    "e=1\n",
    "\n",
    "while e<=num_membros:\n",
    "    t, d = tensao_e_deformacao(e)\n",
    "    print(\"tensão\"+str(e)+\": \"+str(t)+\" deformação\"+str(e)+\": \"+str(d))\n",
    "    \n",
    "    e+=1"
   ]
  },
  {
   "cell_type": "code",
   "execution_count": null,
   "metadata": {},
   "outputs": [],
   "source": []
  }
 ],
 "metadata": {
  "kernelspec": {
   "display_name": "Python 3",
   "language": "python",
   "name": "python3"
  },
  "language_info": {
   "codemirror_mode": {
    "name": "ipython",
    "version": 3
   },
   "file_extension": ".py",
   "mimetype": "text/x-python",
   "name": "python",
   "nbconvert_exporter": "python",
   "pygments_lexer": "ipython3",
   "version": "3.7.3"
  }
 },
 "nbformat": 4,
 "nbformat_minor": 4
}
