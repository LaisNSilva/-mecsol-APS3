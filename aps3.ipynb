{
 "cells": [
  {
   "cell_type": "markdown",
   "metadata": {},
   "source": [
    "# APS 3 - Aula 20\n",
    "---"
   ]
  },
  {
   "cell_type": "code",
   "execution_count": 1,
   "metadata": {},
   "outputs": [],
   "source": [
    "import matplotlib.pyplot as plt\n",
    "import numpy as np\n",
    "from funcoesTermosol import *\n",
    "import math\n",
    "from app_utils import *"
   ]
  },
  {
   "cell_type": "code",
   "execution_count": 2,
   "metadata": {},
   "outputs": [],
   "source": [
    "num_nos, matriz_nos, num_membros, matriz_incidencia, num_cargas, v_carregamento, num_rest, v_rest = importa(\"entrada_aps3.xlsx\")"
   ]
  },
  {
   "cell_type": "code",
   "execution_count": 3,
   "metadata": {},
   "outputs": [],
   "source": [
    "#calcula matriz de conectividade global\n",
    "conectividade_global = conec_global_T(matriz_incidencia, num_membros, num_nos)"
   ]
  },
  {
   "cell_type": "code",
   "execution_count": 4,
   "metadata": {},
   "outputs": [],
   "source": [
    "#calcula matriz dos membros\n",
    "matriz_dos_membros = np.dot(matriz_nos, conectividade_global) "
   ]
  },
  {
   "cell_type": "code",
   "execution_count": 5,
   "metadata": {},
   "outputs": [],
   "source": [
    "#caclula matriz de rigidez global\n",
    "KG = matriz_global(num_nos, num_membros, matriz_incidencia, matriz_nos, matriz_dos_membros) "
   ]
  },
  {
   "cell_type": "code",
   "execution_count": 6,
   "metadata": {},
   "outputs": [],
   "source": [
    "#condição de contorno\n",
    "Pg = vetor_global_de_forcas(num_rest, v_rest, v_carregamento)"
   ]
  },
  {
   "cell_type": "code",
   "execution_count": 7,
   "metadata": {},
   "outputs": [],
   "source": [
    "#exclui linhas e colunas\n",
    "KG_solucao = MR_para_solucao(KG, v_rest)"
   ]
  },
  {
   "cell_type": "code",
   "execution_count": 8,
   "metadata": {
    "scrolled": true
   },
   "outputs": [
    {
     "data": {
      "text/plain": [
       "array([[ 7.17776427e-08],\n",
       "       [ 2.07213119e-07],\n",
       "       [ 3.42648596e-07],\n",
       "       [ 8.47655338e-07],\n",
       "       [-4.84582362e-07],\n",
       "       [ 7.93300326e-07],\n",
       "       [-9.01574228e-07],\n",
       "       [ 1.15337155e-06],\n",
       "       [-3.60071227e-07],\n",
       "       [ 1.70043042e-06],\n",
       "       [-2.34489036e-06]])"
      ]
     },
     "execution_count": 8,
     "metadata": {},
     "output_type": "execute_result"
    }
   ],
   "source": [
    "#calcula os deslocamentos usando a solução de gauss\n",
    "u = solucao_gauss(KG_solucao, Pg, 100, 1e-4)"
   ]
  },
  {
   "cell_type": "code",
   "execution_count": 17,
   "metadata": {},
   "outputs": [
    {
     "data": {
      "text/plain": [
       "array([[ 0.00000000e+00],\n",
       "       [ 0.00000000e+00],\n",
       "       [ 7.17776427e-08],\n",
       "       [ 0.00000000e+00],\n",
       "       [ 2.07213119e-07],\n",
       "       [ 0.00000000e+00],\n",
       "       [ 3.42648596e-07],\n",
       "       [ 0.00000000e+00],\n",
       "       [ 0.00000000e+00],\n",
       "       [ 0.00000000e+00],\n",
       "       [ 8.47655338e-07],\n",
       "       [-4.84582362e-07],\n",
       "       [ 7.93300326e-07],\n",
       "       [-9.01574228e-07],\n",
       "       [ 1.15337155e-06],\n",
       "       [-3.60071227e-07],\n",
       "       [ 1.70043042e-06],\n",
       "       [-2.34489036e-06]])"
      ]
     },
     "execution_count": 17,
     "metadata": {},
     "output_type": "execute_result"
    }
   ],
   "source": [
    "#adiciona 0 nos deslocamentos nulos\n",
    "u_completo = completa_u(u, v_rest)"
   ]
  },
  {
   "cell_type": "code",
   "execution_count": 10,
   "metadata": {},
   "outputs": [],
   "source": [
    "#calcula todas as forças de apoio\n",
    "forcas = calculate_force_complete(KG, u_completo, v_rest)"
   ]
  },
  {
   "cell_type": "code",
   "execution_count": 12,
   "metadata": {},
   "outputs": [
    {
     "name": "stdout",
     "output_type": "stream",
     "text": [
      "R1x: [-1485.46628629]\n",
      "R1y: [-952.73171494]\n",
      "R2y: [4069.04566302]\n",
      "R3y: [6691.49532106]\n",
      "R4y: [6220.79922859]\n",
      "R5x: [-6514.53371371]\n",
      "R5y: [3971.39150227]\n"
     ]
    }
   ],
   "source": [
    "title_to_print = [\"R1x\", \"R1y\", \"R2y\", \"R3y\", \"R4y\", \"R5x\", \"R5y\"]\n",
    "for i in range(len(title_to_print)):\n",
    "    print(\"{0}: {1}\".format(title_to_print[i], forcas[i]))"
   ]
  },
  {
   "cell_type": "code",
   "execution_count": 13,
   "metadata": {},
   "outputs": [],
   "source": [
    "#área fornecida pela estrutura\n",
    "area = math.pi*0.15**2 "
   ]
  },
  {
   "cell_type": "code",
   "execution_count": 14,
   "metadata": {},
   "outputs": [
    {
     "name": "stdout",
     "output_type": "stream",
     "text": [
      "Membro 1: tensao: 7536.65 | deformacao: 3.588882132751875e-08 | força: 532.73\n",
      "Membro 2: tensao: 14220.73 | deformacao: 6.771773831732144e-08 | força: 1005.2\n",
      "Membro 3: tensao: 14220.73 | deformacao: 6.771773831732144e-08 | força: 1005.2\n",
      "Membro 4: tensao: -35978.1 | deformacao: -1.7132429796216164e-07 | força: -2543.14\n",
      "Membro 5: tensao: 19061.33 | deformacao: 9.076824422025588e-08 | força: 1347.37\n",
      "Membro 6: tensao: -50881.15 | deformacao: -2.4229118076093255e-07 | força: -3596.58\n",
      "Membro 7: tensao: -9452.71 | deformacao: -4.5012886082626374e-08 | força: -668.17\n",
      "Membro 8: tensao: -5707.28 | deformacao: -2.7177505955503998e-08 | força: -403.42\n",
      "Membro 9: tensao: -94665.29 | deformacao: -4.507871140836743e-07 | força: -6691.5\n",
      "Membro 10: tensao: -70991.86 | deformacao: -3.380564896837265e-07 | força: -5018.12\n",
      "Membro 11: tensao: 37807.48 | deformacao: 1.8003561333417645e-07 | força: 2672.45\n",
      "Membro 12: tensao: -37807.48 | deformacao: -1.8003561333417648e-07 | força: -2672.45\n",
      "Membro 13: tensao: -79455.75 | deformacao: -3.783606949571466e-07 | força: -5616.4\n",
      "Membro 14: tensao: -52895.48 | deformacao: -2.518832296552461e-07 | força: -3738.96\n",
      "Membro 15: tensao: -151548.19 | deformacao: -7.2165806735296e-07 | força: -10712.31\n",
      "Membro 16: tensao: -132923.6 | deformacao: -6.329695010444973e-07 | força: -9395.82\n"
     ]
    }
   ],
   "source": [
    "for i in range(num_membros):\n",
    "    tensao, deformacao, forca = tensao_e_deformacao(i+1, num_membros, u_completo, matriz_incidencia, matriz_nos, area)\n",
    "    print(\"Membro {0}: tensao: {1} | deformacao: {2} | força: {3}\".format(i+1, round(tensao,2), deformacao, round(forca,2)))"
   ]
  }
 ],
 "metadata": {
  "kernelspec": {
   "display_name": "Python 3",
   "language": "python",
   "name": "python3"
  },
  "language_info": {
   "codemirror_mode": {
    "name": "ipython",
    "version": 3
   },
   "file_extension": ".py",
   "mimetype": "text/x-python",
   "name": "python",
   "nbconvert_exporter": "python",
   "pygments_lexer": "ipython3",
   "version": "3.8.3"
  }
 },
 "nbformat": 4,
 "nbformat_minor": 4
}
